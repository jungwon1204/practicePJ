{
 "cells": [
  {
   "cell_type": "code",
   "execution_count": 1,
   "metadata": {},
   "outputs": [],
   "source": [
    "import numpy as np\n",
    "import pandas as pd\n",
    "from keras import Sequential, layers, models\n",
    "from sklearn.model_selection import train_test_split\n",
    "from sklearn.preprocessing import Normalizer\n",
    "import tensorflow as tf\n",
    "import matplotlib.pyplot as plt"
   ]
  },
  {
   "cell_type": "code",
   "execution_count": 2,
   "metadata": {},
   "outputs": [
    {
     "name": "stdout",
     "output_type": "stream",
     "text": [
      "C:\\Users\\82107\\OneDrive\\문서\\GitHub\\practicePJ\\20221122_ss_PJ\n"
     ]
    }
   ],
   "source": [
    "import os\n",
    "\"\"\"print(os.path.realpath(\"__file__\"))\n",
    "print(os.path.abspath(\"__file__\"))\n",
    "print(os.path.dirname(os.path.realpath(\"__file__\")))\"\"\"\n",
    "path = os.path.dirname(os.path.realpath(\"__file__\"))\n",
    "print(path)"
   ]
  },
  {
   "cell_type": "code",
   "execution_count": 3,
   "metadata": {},
   "outputs": [
    {
     "name": "stdout",
     "output_type": "stream",
     "text": [
      "['AllData.csv', 'DataFit.py', 'DataFit_jupyter.ipynb', 'save_model', '육군 신체측정정보.csv']\n",
      "c:\\Users\\82107\\OneDrive\\문서\\GitHub\\practicePJ\\20221122_ss_PJ\n"
     ]
    }
   ],
   "source": [
    "import os\n",
    "print(os.listdir(os.getcwd()))\n",
    "print(os.getcwd())"
   ]
  },
  {
   "cell_type": "code",
   "execution_count": 4,
   "metadata": {},
   "outputs": [
    {
     "name": "stdout",
     "output_type": "stream",
     "text": [
      "(135668, 7) (135668,)\n"
     ]
    }
   ],
   "source": [
    "with open(path+r\"\\육군 신체측정정보.csv\", \"r\", ) as file:\n",
    "    data = pd.read_csv(file)\n",
    "    #print(data)\n",
    "train_data = data.to_numpy()\n",
    "x_data, y_data = [], []\n",
    "for i in train_data:\n",
    "    x_data.append(i[:7])\n",
    "    y_data.append(i[7])\n",
    "train_data = np.array(x_data)\n",
    "test_data = np.array(y_data)\n",
    "print(train_data.shape, test_data.shape)"
   ]
  },
  {
   "cell_type": "code",
   "execution_count": 5,
   "metadata": {},
   "outputs": [
    {
     "name": "stdout",
     "output_type": "stream",
     "text": [
      "(101751, 7) (33917, 7) (101751,) (33917,)\n"
     ]
    }
   ],
   "source": [
    "nmr = Normalizer().fit(x_data)\n",
    "t = nmr.transform(x_data)\n",
    "x_data = t\n",
    "\n",
    "train_x, test_x, train_y, test_y = train_test_split(train_data, test_data, random_state=1)\n",
    "print(train_x.shape, test_x.shape, train_y.shape, test_y.shape)"
   ]
  },
  {
   "cell_type": "code",
   "execution_count": 6,
   "metadata": {},
   "outputs": [
    {
     "name": "stdout",
     "output_type": "stream",
     "text": [
      "Model: \"sequential\"\n",
      "_________________________________________________________________\n",
      " Layer (type)                Output Shape              Param #   \n",
      "=================================================================\n",
      " dense (Dense)               (None, 64)                512       \n",
      "                                                                 \n",
      " dense_1 (Dense)             (None, 32)                2080      \n",
      "                                                                 \n",
      " dense_2 (Dense)             (None, 16)                528       \n",
      "                                                                 \n",
      " dense_3 (Dense)             (None, 4)                 68        \n",
      "                                                                 \n",
      " dense_4 (Dense)             (None, 1)                 5         \n",
      "                                                                 \n",
      "=================================================================\n",
      "Total params: 3,193\n",
      "Trainable params: 3,193\n",
      "Non-trainable params: 0\n",
      "_________________________________________________________________\n"
     ]
    }
   ],
   "source": [
    "model = Sequential()\n",
    "model.add(layers.Input(7))\n",
    "model.add(layers.Dense(64, activation=\"relu\"))\n",
    "model.add(layers.Dense(32, activation=\"relu\"))\n",
    "model.add(layers.Dense(16, activation=\"relu\"))\n",
    "model.add(layers.Dense(4, activation=\"relu\"))\n",
    "model.add(layers.Dense(1, activation=\"relu\"))\n",
    "\n",
    "model.summary()"
   ]
  },
  {
   "cell_type": "code",
   "execution_count": 7,
   "metadata": {},
   "outputs": [
    {
     "name": "stdout",
     "output_type": "stream",
     "text": [
      "Epoch 1/100\n",
      "795/795 [==============================] - 2s 1ms/step - loss: 5.7357\n",
      "Epoch 2/100\n",
      "795/795 [==============================] - 1s 1ms/step - loss: 4.9026\n",
      "Epoch 3/100\n",
      "795/795 [==============================] - 1s 1ms/step - loss: 4.7275\n",
      "Epoch 4/100\n",
      "795/795 [==============================] - 1s 1ms/step - loss: 4.6666\n",
      "Epoch 5/100\n",
      "795/795 [==============================] - 1s 1ms/step - loss: 4.5897\n",
      "Epoch 6/100\n",
      "795/795 [==============================] - 1s 1ms/step - loss: 4.5621\n",
      "Epoch 7/100\n",
      "795/795 [==============================] - 1s 1ms/step - loss: 4.5120\n",
      "Epoch 8/100\n",
      "795/795 [==============================] - 1s 1ms/step - loss: 4.4708\n",
      "Epoch 9/100\n",
      "795/795 [==============================] - 1s 1ms/step - loss: 4.4556\n",
      "Epoch 10/100\n",
      "795/795 [==============================] - 1s 1ms/step - loss: 4.4219\n",
      "Epoch 11/100\n",
      "795/795 [==============================] - 1s 2ms/step - loss: 4.4057\n",
      "Epoch 12/100\n",
      "795/795 [==============================] - 1s 1ms/step - loss: 4.3925\n",
      "Epoch 13/100\n",
      "795/795 [==============================] - 1s 2ms/step - loss: 4.3729\n",
      "Epoch 14/100\n",
      "795/795 [==============================] - 1s 1ms/step - loss: 4.3721\n",
      "Epoch 15/100\n",
      "795/795 [==============================] - 1s 1ms/step - loss: 4.3543\n",
      "Epoch 16/100\n",
      "795/795 [==============================] - 1s 1ms/step - loss: 4.3282\n",
      "Epoch 17/100\n",
      "795/795 [==============================] - 1s 1ms/step - loss: 4.3228\n",
      "Epoch 18/100\n",
      "795/795 [==============================] - 1s 1ms/step - loss: 4.3101\n",
      "Epoch 19/100\n",
      "795/795 [==============================] - 1s 1ms/step - loss: 4.2967\n",
      "Epoch 20/100\n",
      "795/795 [==============================] - 1s 1ms/step - loss: 4.2949\n",
      "Epoch 21/100\n",
      "795/795 [==============================] - 1s 1ms/step - loss: 4.2791\n",
      "Epoch 22/100\n",
      "795/795 [==============================] - 1s 1ms/step - loss: 4.2798\n",
      "Epoch 23/100\n",
      "795/795 [==============================] - 1s 1ms/step - loss: 4.2803\n",
      "Epoch 24/100\n",
      "795/795 [==============================] - 1s 1ms/step - loss: 4.2624\n",
      "Epoch 25/100\n",
      "795/795 [==============================] - 1s 1ms/step - loss: 4.2619\n",
      "Epoch 26/100\n",
      "795/795 [==============================] - 1s 1ms/step - loss: 4.2568\n",
      "Epoch 27/100\n",
      "795/795 [==============================] - 1s 1ms/step - loss: 4.2510\n",
      "Epoch 28/100\n",
      "795/795 [==============================] - 1s 1ms/step - loss: 4.2437\n",
      "Epoch 29/100\n",
      "795/795 [==============================] - 1s 1ms/step - loss: 4.2418\n",
      "Epoch 30/100\n",
      "795/795 [==============================] - 1s 1ms/step - loss: 4.2379\n",
      "Epoch 31/100\n",
      "795/795 [==============================] - 1s 1ms/step - loss: 4.2376\n",
      "Epoch 32/100\n",
      "795/795 [==============================] - 1s 1ms/step - loss: 4.2230\n",
      "Epoch 33/100\n",
      "795/795 [==============================] - 1s 1ms/step - loss: 4.2230\n",
      "Epoch 34/100\n",
      "795/795 [==============================] - 1s 1ms/step - loss: 4.2106\n",
      "Epoch 35/100\n",
      "795/795 [==============================] - 1s 1ms/step - loss: 4.1987\n",
      "Epoch 36/100\n",
      "795/795 [==============================] - 1s 1ms/step - loss: 4.2053\n",
      "Epoch 37/100\n",
      "795/795 [==============================] - 1s 1ms/step - loss: 4.1959\n",
      "Epoch 38/100\n",
      "795/795 [==============================] - 1s 1ms/step - loss: 4.1965\n",
      "Epoch 39/100\n",
      "795/795 [==============================] - 1s 1ms/step - loss: 4.1865\n",
      "Epoch 40/100\n",
      "795/795 [==============================] - 1s 1ms/step - loss: 4.1812\n",
      "Epoch 41/100\n",
      "795/795 [==============================] - 1s 1ms/step - loss: 4.1875\n",
      "Epoch 42/100\n",
      "795/795 [==============================] - 1s 1ms/step - loss: 4.1690\n",
      "Epoch 43/100\n",
      "795/795 [==============================] - 1s 1ms/step - loss: 4.1713\n",
      "Epoch 44/100\n",
      "795/795 [==============================] - 1s 1ms/step - loss: 4.1653\n",
      "Epoch 45/100\n",
      "795/795 [==============================] - 1s 1ms/step - loss: 4.1589\n",
      "Epoch 46/100\n",
      "795/795 [==============================] - 1s 2ms/step - loss: 4.1552\n",
      "Epoch 47/100\n",
      "795/795 [==============================] - 1s 1ms/step - loss: 4.1427\n",
      "Epoch 48/100\n",
      "795/795 [==============================] - 1s 1ms/step - loss: 4.1402\n",
      "Epoch 49/100\n",
      "795/795 [==============================] - 1s 2ms/step - loss: 4.1517\n",
      "Epoch 50/100\n",
      "795/795 [==============================] - 1s 1ms/step - loss: 4.1354\n",
      "Epoch 51/100\n",
      "795/795 [==============================] - 1s 2ms/step - loss: 4.1358\n",
      "Epoch 52/100\n",
      "795/795 [==============================] - 1s 2ms/step - loss: 4.1306\n",
      "Epoch 53/100\n",
      "795/795 [==============================] - 1s 2ms/step - loss: 4.1271\n",
      "Epoch 54/100\n",
      "795/795 [==============================] - 2s 2ms/step - loss: 4.1229\n",
      "Epoch 55/100\n",
      "795/795 [==============================] - 1s 1ms/step - loss: 4.1145\n",
      "Epoch 56/100\n",
      "795/795 [==============================] - 1s 2ms/step - loss: 4.1178\n",
      "Epoch 57/100\n",
      "795/795 [==============================] - 1s 2ms/step - loss: 4.1194\n",
      "Epoch 58/100\n",
      "795/795 [==============================] - 1s 2ms/step - loss: 4.1126\n",
      "Epoch 59/100\n",
      "795/795 [==============================] - 1s 1ms/step - loss: 4.1083\n",
      "Epoch 60/100\n",
      "795/795 [==============================] - 1s 2ms/step - loss: 4.1045\n",
      "Epoch 61/100\n",
      "795/795 [==============================] - 1s 2ms/step - loss: 4.1022\n",
      "Epoch 62/100\n",
      "795/795 [==============================] - 1s 2ms/step - loss: 4.0983\n",
      "Epoch 63/100\n",
      "795/795 [==============================] - 1s 2ms/step - loss: 4.0906\n",
      "Epoch 64/100\n",
      "795/795 [==============================] - 1s 2ms/step - loss: 4.0910\n",
      "Epoch 65/100\n",
      "795/795 [==============================] - 1s 2ms/step - loss: 4.0756\n",
      "Epoch 66/100\n",
      "795/795 [==============================] - 1s 2ms/step - loss: 4.0805\n",
      "Epoch 67/100\n",
      "795/795 [==============================] - 1s 2ms/step - loss: 4.0760\n",
      "Epoch 68/100\n",
      "795/795 [==============================] - 1s 2ms/step - loss: 4.0652\n",
      "Epoch 69/100\n",
      "795/795 [==============================] - 1s 2ms/step - loss: 4.0681\n",
      "Epoch 70/100\n",
      "795/795 [==============================] - 1s 1ms/step - loss: 4.0550\n",
      "Epoch 71/100\n",
      "795/795 [==============================] - 1s 1ms/step - loss: 4.0477\n",
      "Epoch 72/100\n",
      "795/795 [==============================] - 1s 2ms/step - loss: 4.0418\n",
      "Epoch 73/100\n",
      "795/795 [==============================] - 1s 1ms/step - loss: 4.0363\n",
      "Epoch 74/100\n",
      "795/795 [==============================] - 1s 2ms/step - loss: 4.0268\n",
      "Epoch 75/100\n",
      "795/795 [==============================] - 1s 1ms/step - loss: 4.0311\n",
      "Epoch 76/100\n",
      "795/795 [==============================] - 1s 1ms/step - loss: 4.0299\n",
      "Epoch 77/100\n",
      "795/795 [==============================] - 1s 1ms/step - loss: 4.0192\n",
      "Epoch 78/100\n",
      "795/795 [==============================] - 1s 1ms/step - loss: 4.0146\n",
      "Epoch 79/100\n",
      "795/795 [==============================] - 1s 1ms/step - loss: 4.0054\n",
      "Epoch 80/100\n",
      "795/795 [==============================] - 1s 2ms/step - loss: 3.9968\n",
      "Epoch 81/100\n",
      "795/795 [==============================] - 1s 2ms/step - loss: 3.9996\n",
      "Epoch 82/100\n",
      "795/795 [==============================] - 1s 2ms/step - loss: 3.9918\n",
      "Epoch 83/100\n",
      "795/795 [==============================] - 1s 2ms/step - loss: 3.9858\n",
      "Epoch 84/100\n",
      "795/795 [==============================] - 1s 2ms/step - loss: 3.9713\n",
      "Epoch 85/100\n",
      "795/795 [==============================] - 1s 2ms/step - loss: 3.9659\n",
      "Epoch 86/100\n",
      "795/795 [==============================] - 1s 2ms/step - loss: 3.9604\n",
      "Epoch 87/100\n",
      "795/795 [==============================] - 1s 2ms/step - loss: 3.9499\n",
      "Epoch 88/100\n",
      "795/795 [==============================] - 2s 2ms/step - loss: 3.9521\n",
      "Epoch 89/100\n",
      "795/795 [==============================] - 2s 2ms/step - loss: 3.9333\n",
      "Epoch 90/100\n",
      "795/795 [==============================] - 1s 2ms/step - loss: 3.9332\n",
      "Epoch 91/100\n",
      "795/795 [==============================] - 2s 2ms/step - loss: 3.9293\n",
      "Epoch 92/100\n",
      "795/795 [==============================] - 2s 2ms/step - loss: 3.9236\n",
      "Epoch 93/100\n",
      "795/795 [==============================] - 2s 2ms/step - loss: 3.9099\n",
      "Epoch 94/100\n",
      "795/795 [==============================] - 2s 2ms/step - loss: 3.9009\n",
      "Epoch 95/100\n",
      "795/795 [==============================] - 2s 2ms/step - loss: 3.9036\n",
      "Epoch 96/100\n",
      "795/795 [==============================] - 2s 2ms/step - loss: 3.8979\n",
      "Epoch 97/100\n",
      "795/795 [==============================] - 2s 2ms/step - loss: 3.8946\n",
      "Epoch 98/100\n",
      "795/795 [==============================] - 2s 2ms/step - loss: 3.8842\n",
      "Epoch 99/100\n",
      "795/795 [==============================] - 2s 2ms/step - loss: 3.8801\n",
      "Epoch 100/100\n",
      "795/795 [==============================] - 2s 2ms/step - loss: 3.8716\n"
     ]
    }
   ],
   "source": [
    "model.compile(optimizer='RMSprop',loss='mae')\n",
    "history = model.fit(train_x, train_y, epochs=100, batch_size=128)"
   ]
  },
  {
   "cell_type": "code",
   "execution_count": 8,
   "metadata": {},
   "outputs": [
    {
     "data": {
      "image/png": "[encoded data removed]",
      "text/plain": [
       "<Figure size 640x480 with 1 Axes>"
      ]
     },
     "metadata": {},
     "output_type": "display_data"
    }
   ],
   "source": [
    "plt.plot(history.history[\"loss\"])\n",
    "plt.title(\"loss\")\n",
    "plt.show()"
   ]
  },
  {
   "cell_type": "code",
   "execution_count": 9,
   "metadata": {},
   "outputs": [
    {
     "name": "stdout",
     "output_type": "stream",
     "text": [
      "2/2 [==============================] - 0s 5ms/step\n",
      "(50, 1) (50,)\n"
     ]
    }
   ],
   "source": [
    "data_size = 50 # 시각화, 테스트할 데이터 개수\n",
    "prd_data = model.predict(test_x[:data_size])\n",
    "actual_value = test_y[:data_size]\n",
    "abs_data = []\n",
    "for i in range(len(actual_value)):\n",
    "    t = abs(prd_data[i] - actual_value[i])\n",
    "    abs_data.append(t**2)\n",
    "    #print(t, end = \", \")\n",
    "#history = model.compile(optimizer='adam', loss='mean_squared_error', metrics=['mean_squared_error'])\n",
    "print(prd_data.shape, actual_value.shape)"
   ]
  },
  {
   "cell_type": "code",
   "execution_count": 14,
   "metadata": {},
   "outputs": [
    {
     "data": {
      "image/png": "[encoded data removed]",
      "text/plain": [
       "<Figure size 640x480 with 2 Axes>"
      ]
     },
     "metadata": {},
     "output_type": "display_data"
    }
   ],
   "source": [
    "\"\"\"plt.plot(prd_data, \"o\")\n",
    "plt.plot(test_y)\n",
    "plt.plot(e_data)\"\"\"\n",
    "plt.scatter(prd_data, actual_value, c=abs_data, edgecolor = \"b\", s = 100, alpha=0.25, cmap='viridis')\n",
    "bar = plt.colorbar().set_label(\"error value\")\n",
    "plt.title(f\"Prediction Rate :: test size {data_size}\")\n",
    "plt.xlabel(f\"Predict\")\n",
    "plt.ylabel(f\"Actual Value\")\n",
    "plt.grid()\n",
    "plt.show()"
   ]
  },
  {
   "cell_type": "code",
   "execution_count": 11,
   "metadata": {},
   "outputs": [],
   "source": [
    "model.save(path+r\"\\save_model\\model_1.h5\")"
   ]
  },
  {
   "cell_type": "code",
   "execution_count": 12,
   "metadata": {},
   "outputs": [
    {
     "name": "stdout",
     "output_type": "stream",
     "text": [
      "1060/1060 [==============================] - 2s 1ms/step\n",
      "(33917, 1)\n",
      "[56.86389]\n"
     ]
    }
   ],
   "source": [
    "model = models.load_model(path+r\"\\save_model\\model_GoodLoss.h5\")\n",
    "load_model_pre = model.predict(test_x)\n",
    "print(load_model_pre.shape)\n",
    "print(load_model_pre[0])"
   ]
  }
 ],
 "metadata": {
  "kernelspec": {
   "display_name": "Python 3.9.12",
   "language": "python",
   "name": "python3"
  },
  "language_info": {
   "codemirror_mode": {
    "name": "ipython",
    "version": 3
   },
   "file_extension": ".py",
   "mimetype": "text/x-python",
   "name": "python",
   "nbconvert_exporter": "python",
   "pygments_lexer": "ipython3",
   "version": "3.9.12"
  },
  "orig_nbformat": 4,
  "vscode": {
   "interpreter": {
    "hash": "ad2bdc8ecc057115af97d19610ffacc2b4e99fae6737bb82f5d7fb13d2f2c186"
   }
  }
 },
 "nbformat": 4,
 "nbformat_minor": 2
}
